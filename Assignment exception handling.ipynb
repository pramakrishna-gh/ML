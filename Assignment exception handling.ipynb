{
 "cells": [
  {
   "cell_type": "markdown",
   "metadata": {},
   "source": [
    "1. Write a function to compute 5/0 and use try/except to catch the exceptions."
   ]
  },
  {
   "cell_type": "code",
   "execution_count": 17,
   "metadata": {},
   "outputs": [
    {
     "name": "stdout",
     "output_type": "stream",
     "text": [
      "Handle run-time div by 0 error: division by zero\n"
     ]
    }
   ],
   "source": [
    "def throws():\n",
    "    return 5 / 0\n",
    "\n",
    "try:\n",
    "    throws()\n",
    "except Exception as err:\n",
    "    print (\"Handle run-time div by 0 error:\",err)"
   ]
  },
  {
   "cell_type": "markdown",
   "metadata": {},
   "source": [
    "2. Implement a Python program to generate all sentences where subject is in\n",
    "\n",
    "[\"Americans\", \"Indians\"] and verb is in [\"Play\", \"watch\"] and the object is in\n",
    "\n",
    "[\"Baseball\",\"cricket\"].\n",
    "\n",
    "Hint: Subject,Verb and Object should be declared in the program as shown below.\n",
    "\n",
    "subjects=[\"Americans \",\"Indians\"]\n",
    "\n",
    "verbs=[\"play\",\"watch\"]\n",
    "\n",
    "objects=[\"Baseball\",\"Cricket\"]\n",
    "\n",
    "Output should come as below:\n",
    "\n",
    "Americans play Baseball.\n",
    "\n",
    "Americans play Cricket.\n",
    "\n",
    "Americans watch Baseball.\n",
    "\n",
    "Americans watch Cricket.\n",
    "\n",
    "Indians play Baseball.\n",
    "\n",
    "Indians play Cricket.\n",
    "\n",
    "Indians watch Baseball.\n",
    "\n",
    "Indians watch Cricket."
   ]
  },
  {
   "cell_type": "code",
   "execution_count": 18,
   "metadata": {},
   "outputs": [],
   "source": [
    "subject=[\"Americans\", \"Indians\"]\n",
    "\n",
    "verb=[\"Play\", \"watch\"]\n",
    "\n",
    "obj=[\"Baseball\",\"cricket\"]"
   ]
  },
  {
   "cell_type": "code",
   "execution_count": 20,
   "metadata": {},
   "outputs": [
    {
     "name": "stdout",
     "output_type": "stream",
     "text": [
      "Americans Play Baseball\n",
      "Americans Play cricket\n",
      "Americans watch Baseball\n",
      "Americans watch cricket\n",
      "Indians Play Baseball\n",
      "Indians Play cricket\n",
      "Indians watch Baseball\n",
      "Indians watch cricket\n"
     ]
    }
   ],
   "source": [
    "sentence_list = [(sub+\" \"+ vb + \" \" + ob) for sub in subject for vb in verb for ob in obj]\n",
    "\n",
    "for sentence in sentence_list:\n",
    "    print (sentence)"
   ]
  },
  {
   "cell_type": "code",
   "execution_count": null,
   "metadata": {},
   "outputs": [],
   "source": []
  }
 ],
 "metadata": {
  "kernelspec": {
   "display_name": "Python 3",
   "language": "python",
   "name": "python3"
  },
  "language_info": {
   "codemirror_mode": {
    "name": "ipython",
    "version": 3
   },
   "file_extension": ".py",
   "mimetype": "text/x-python",
   "name": "python",
   "nbconvert_exporter": "python",
   "pygments_lexer": "ipython3",
   "version": "3.7.6"
  }
 },
 "nbformat": 4,
 "nbformat_minor": 4
}
